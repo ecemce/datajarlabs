{
 "cells": [
  {
   "cell_type": "markdown",
   "metadata": {},
   "source": [
    "## Kullanıcıdan Santigrat ya da Fahrenheit olarak sıcaklık değerini alacak ve diğer sıcaklık birimine çevirecek bir kod yazın."
   ]
  },
  {
   "cell_type": "code",
   "execution_count": 1,
   "metadata": {
    "scrolled": true
   },
   "outputs": [
    {
     "name": "stdout",
     "output_type": "stream",
     "text": [
      "Derece'den Fahrenheit'a çevirmek için 1 , Fahrenheit'tan dereceye çevirmek için 2 yazınız:1\n",
      "derece:23\n",
      "23.0 Derece\n",
      "73.4 Fahrenheit\n"
     ]
    }
   ],
   "source": [
    "x=int(input(\"Derece'den Fahrenheit'a çevirmek için 1 , Fahrenheit'tan dereceye çevirmek için 2 yazınız:\"))\n",
    "if x==1:\n",
    "     D=float(input(\"derece:\"))\n",
    "     F=D*1.8+32\n",
    "     print(D,\"Derece\")\n",
    "     print(F,\"Fahrenheit\")\n",
    "elif x==2:\n",
    "    F=float(input(\"Fahrenheit:\"))\n",
    "    D=(F-32)/1.8\n",
    "    print(F,\"Fahrenheit\")\n",
    "    print(D,\"Derece\")\n",
    "else:\n",
    "    print(\"lütfen uygun bir sayı giriniz!!\")"
   ]
  },
  {
   "cell_type": "markdown",
   "metadata": {},
   "source": [
    "## Kullanıcının girdiği kelimeyi ters çeviren bir kod yazınız."
   ]
  },
  {
   "cell_type": "code",
   "execution_count": 6,
   "metadata": {},
   "outputs": [
    {
     "name": "stdout",
     "output_type": "stream",
     "text": [
      "Lütfen bir kelime giriniz:ecem pangal\n"
     ]
    },
    {
     "data": {
      "text/plain": [
       "'lagnap mece'"
      ]
     },
     "execution_count": 6,
     "metadata": {},
     "output_type": "execute_result"
    }
   ],
   "source": [
    "a=input(\"Lütfen bir kelime giriniz:\")\n",
    "a[::-1]"
   ]
  },
  {
   "cell_type": "markdown",
   "metadata": {},
   "source": [
    "## 1'den 50'ye kadar olan Fibonacci sayılarından oluşan bir liste oluşturun."
   ]
  },
  {
   "cell_type": "code",
   "execution_count": 12,
   "metadata": {},
   "outputs": [
    {
     "name": "stdout",
     "output_type": "stream",
     "text": [
      "1 .sayı:   1\n",
      "2 .sayı:   1\n",
      "3 . sayı:  2\n",
      "4 . sayı:  3\n",
      "5 . sayı:  5\n",
      "6 . sayı:  8\n",
      "7 . sayı:  13\n",
      "8 . sayı:  21\n",
      "9 . sayı:  34\n",
      "10 . sayı:  55\n",
      "11 . sayı:  89\n",
      "12 . sayı:  144\n",
      "13 . sayı:  233\n",
      "14 . sayı:  377\n",
      "15 . sayı:  610\n",
      "16 . sayı:  987\n",
      "17 . sayı:  1597\n",
      "18 . sayı:  2584\n",
      "19 . sayı:  4181\n",
      "20 . sayı:  6765\n",
      "21 . sayı:  10946\n",
      "22 . sayı:  17711\n",
      "23 . sayı:  28657\n",
      "24 . sayı:  46368\n",
      "25 . sayı:  75025\n",
      "26 . sayı:  121393\n",
      "27 . sayı:  196418\n",
      "28 . sayı:  317811\n",
      "29 . sayı:  514229\n",
      "30 . sayı:  832040\n",
      "31 . sayı:  1346269\n",
      "32 . sayı:  2178309\n",
      "33 . sayı:  3524578\n",
      "34 . sayı:  5702887\n",
      "35 . sayı:  9227465\n",
      "36 . sayı:  14930352\n",
      "37 . sayı:  24157817\n",
      "38 . sayı:  39088169\n",
      "39 . sayı:  63245986\n",
      "40 . sayı:  102334155\n",
      "41 . sayı:  165580141\n",
      "42 . sayı:  267914296\n",
      "43 . sayı:  433494437\n",
      "44 . sayı:  701408733\n",
      "45 . sayı:  1134903170\n",
      "46 . sayı:  1836311903\n",
      "47 . sayı:  2971215073\n",
      "48 . sayı:  4807526976\n",
      "49 . sayı:  7778742049\n",
      "50 . sayı:  12586269025\n"
     ]
    }
   ],
   "source": [
    "a, b = 1, 1\n",
    "print (\"1 .sayı:  \",a)\n",
    "print (\"2 .sayı:  \",b)\n",
    "i = 3\n",
    "while i<=50:\n",
    "    a,b = b, a+b\n",
    "    print (i,\". sayı: \",b)\n",
    "    i += 1\n"
   ]
  },
  {
   "cell_type": "markdown",
   "metadata": {},
   "source": [
    "## Girilen bir sayı için çarpım tablosunu yazdırın."
   ]
  },
  {
   "cell_type": "code",
   "execution_count": 7,
   "metadata": {},
   "outputs": [
    {
     "name": "stdout",
     "output_type": "stream",
     "text": [
      "Bir sayı giriniz:2\n",
      "2\n",
      "4\n",
      "6\n",
      "8\n",
      "10\n",
      "12\n",
      "14\n",
      "16\n",
      "18\n",
      "20\n"
     ]
    }
   ],
   "source": [
    "x=int(input(\"Bir sayı giriniz:\"))\n",
    "list=[1,2,3,4,5,6,7,8,9,10]\n",
    "print(list[0]*x)\n",
    "print(list[1]*x)\n",
    "print(list[2]*x)\n",
    "print(list[3]*x)\n",
    "print(list[4]*x)\n",
    "print(list[5]*x)\n",
    "print(list[6]*x)\n",
    "print(list[7]*x)\n",
    "print(list[8]*x)\n",
    "print(list[9]*x)\n"
   ]
  },
  {
   "cell_type": "markdown",
   "metadata": {},
   "source": [
    "## List comprehension kullanarak, 1'den 20'ye kadar tek sayıların karesini, çift sayıların küpünü içeren bir liste oluşturun."
   ]
  },
  {
   "cell_type": "code",
   "execution_count": 2,
   "metadata": {
    "scrolled": true
   },
   "outputs": [
    {
     "name": "stdout",
     "output_type": "stream",
     "text": [
      "[1, 8, 9, 64, 25, 216, 49, 512, 81, 1000, 121, 1728, 169, 2744, 225, 4096, 289, 5832, 361]\n"
     ]
    }
   ],
   "source": [
    "my_list=[x**3 if x%2==0 else x**2 for x in range (1,20)]\n",
    "print(my_list)"
   ]
  },
  {
   "cell_type": "code",
   "execution_count": null,
   "metadata": {},
   "outputs": [],
   "source": []
  }
 ],
 "metadata": {
  "kernelspec": {
   "display_name": "Python 3",
   "language": "python",
   "name": "python3"
  },
  "language_info": {
   "codemirror_mode": {
    "name": "ipython",
    "version": 3
   },
   "file_extension": ".py",
   "mimetype": "text/x-python",
   "name": "python",
   "nbconvert_exporter": "python",
   "pygments_lexer": "ipython3",
   "version": "3.7.1"
  }
 },
 "nbformat": 4,
 "nbformat_minor": 2
}
