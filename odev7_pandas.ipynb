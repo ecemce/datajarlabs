{
 "cells": [
  {
   "cell_type": "markdown",
   "metadata": {},
   "source": [
    "### Endeksi alfabenin ilk 10 harfi olan ve ilk 10 asal sayıyı ve ilk 10 fibonacci sayısını içeren bir veri çerçevesi oluşturun."
   ]
  },
  {
   "cell_type": "code",
   "execution_count": 66,
   "metadata": {},
   "outputs": [
    {
     "data": {
      "text/html": [
       "<div>\n",
       "<style scoped>\n",
       "    .dataframe tbody tr th:only-of-type {\n",
       "        vertical-align: middle;\n",
       "    }\n",
       "\n",
       "    .dataframe tbody tr th {\n",
       "        vertical-align: top;\n",
       "    }\n",
       "\n",
       "    .dataframe thead th {\n",
       "        text-align: right;\n",
       "    }\n",
       "</style>\n",
       "<table border=\"1\" class=\"dataframe\">\n",
       "  <thead>\n",
       "    <tr style=\"text-align: right;\">\n",
       "      <th></th>\n",
       "      <th>Asal</th>\n",
       "      <th>Fibonacci</th>\n",
       "    </tr>\n",
       "  </thead>\n",
       "  <tbody>\n",
       "    <tr>\n",
       "      <th>a</th>\n",
       "      <td>2</td>\n",
       "      <td>1</td>\n",
       "    </tr>\n",
       "    <tr>\n",
       "      <th>b</th>\n",
       "      <td>3</td>\n",
       "      <td>1</td>\n",
       "    </tr>\n",
       "    <tr>\n",
       "      <th>c</th>\n",
       "      <td>5</td>\n",
       "      <td>2</td>\n",
       "    </tr>\n",
       "    <tr>\n",
       "      <th>ç</th>\n",
       "      <td>7</td>\n",
       "      <td>3</td>\n",
       "    </tr>\n",
       "    <tr>\n",
       "      <th>d</th>\n",
       "      <td>11</td>\n",
       "      <td>5</td>\n",
       "    </tr>\n",
       "    <tr>\n",
       "      <th>e</th>\n",
       "      <td>13</td>\n",
       "      <td>8</td>\n",
       "    </tr>\n",
       "    <tr>\n",
       "      <th>f</th>\n",
       "      <td>17</td>\n",
       "      <td>13</td>\n",
       "    </tr>\n",
       "    <tr>\n",
       "      <th>g</th>\n",
       "      <td>19</td>\n",
       "      <td>21</td>\n",
       "    </tr>\n",
       "    <tr>\n",
       "      <th>h</th>\n",
       "      <td>23</td>\n",
       "      <td>34</td>\n",
       "    </tr>\n",
       "    <tr>\n",
       "      <th>ı</th>\n",
       "      <td>29</td>\n",
       "      <td>55</td>\n",
       "    </tr>\n",
       "  </tbody>\n",
       "</table>\n",
       "</div>"
      ],
      "text/plain": [
       "   Asal  Fibonacci\n",
       "a     2          1\n",
       "b     3          1\n",
       "c     5          2\n",
       "ç     7          3\n",
       "d    11          5\n",
       "e    13          8\n",
       "f    17         13\n",
       "g    19         21\n",
       "h    23         34\n",
       "ı    29         55"
      ]
     },
     "execution_count": 66,
     "metadata": {},
     "output_type": "execute_result"
    }
   ],
   "source": [
    "import pandas as pd \n",
    "import numpy as np\n",
    "df=pd.DataFrame({\"Asal\":[2,3,5,7,11,13,17,19,23,29],\n",
    "              \"Fibonacci\":[1,1,2,3,5,8,13,21,34,55]})\n",
    "df.index = [\"a\",\"b\",\"c\",\"ç\",\"d\",\"e\",\"f\",\"g\",\"h\",\"ı\"]\n",
    "df"
   ]
  },
  {
   "cell_type": "markdown",
   "metadata": {},
   "source": [
    "### Kaggle'dan Titanic: Machine Learning from Disaster isimli yarışmanın train.csv isimli dosyasını indirin ve Pandas veri çerçevelerini kullanarak tüm veriyi yükleyin. Veri çerçevelerinin .groupby() metodunu kullanarak yolcuların ortalama yaşlarını herbir cinsiyet için ayrı olacak şekilde hesaplayın."
   ]
  },
  {
   "cell_type": "code",
   "execution_count": 17,
   "metadata": {},
   "outputs": [
    {
     "data": {
      "text/plain": [
       "Sex\n",
       "female    27.915709\n",
       "male      30.726645\n",
       "Name: Age, dtype: float64"
      ]
     },
     "execution_count": 17,
     "metadata": {},
     "output_type": "execute_result"
    }
   ],
   "source": [
    "import pandas as pd \n",
    "import numpy as np\n",
    "\n",
    "df=pd.read_csv(\"train.csv\")\n",
    "df.groupby(by='Sex').mean()['Age']\n",
    "\n",
    "\n"
   ]
  },
  {
   "cell_type": "markdown",
   "metadata": {},
   "source": [
    "### Koşullu seçim yöntemlerini de kullanarak, 30 yaşından küçük tüm yolcuların kurtulma oranını (survival ratio) hesaplayın. Daha sonra, kurtulma oranını cinsiyete göre ayrı ayrı hesaplayın."
   ]
  },
  {
   "cell_type": "code",
   "execution_count": 57,
   "metadata": {},
   "outputs": [
    {
     "name": "stdout",
     "output_type": "stream",
     "text": [
      "30 yaşından küçük yolcu sayısı: 384\n",
      "30 yaşından küçük kurtulan yolcu sayısı: 156\n",
      "30 yaşından küçük tüm yolcuların kurtulma oranı: 0.40625\n",
      "30 yaşından küçük kurtulan erkek sayısı: 51\n",
      "30 yaşından küçük kurtulan kadın sayısı: 105\n",
      "30 yaşından küçük kurtulamayan erkek sayısı: 186\n",
      "30 yaşından küçük kurtulamayan kadın sayısı: 42\n",
      "30 yaşından küçük kadınların kurtulma oranı: 0.7142857142857143\n",
      "30 yaşından küçük erkeklerin kurtulma oranı: 0.21518987341772153\n"
     ]
    }
   ],
   "source": [
    "import pandas as pd \n",
    "import numpy as np\n",
    "\n",
    "df=pd.read_csv(\"train.csv\")\n",
    "a=df.loc[lambda df:df[\"Age\"]<30, : ]\n",
    "print(\"30 yaşından küçük yolcu sayısı:\",len(a))\n",
    "b=a[a[\"Survived\"]== 1]\n",
    "d=a[a[\"Survived\"]== 0]\n",
    "print(\"30 yaşından küçük kurtulan yolcu sayısı:\",len(a[a[\"Survived\"]==1]))\n",
    "print(\"30 yaşından küçük tüm yolcuların kurtulma oranı:\", 156/384)\n",
    "print ('30 yaşından küçük kurtulan erkek sayısı:', len(b.groupby('Sex').groups['male']))\n",
    "print ('30 yaşından küçük kurtulan kadın sayısı:', len(b.groupby('Sex').groups['female']))\n",
    "print ('30 yaşından küçük kurtulamayan erkek sayısı:', len(d.groupby('Sex').groups['male']))\n",
    "print ('30 yaşından küçük kurtulamayan kadın sayısı:', len(d.groupby('Sex').groups['female']))\n",
    "print ('30 yaşından küçük kadınların kurtulma oranı:', 105/(105+42))\n",
    "print ('30 yaşından küçük erkeklerin kurtulma oranı:', 51/(51+186))"
   ]
  },
  {
   "cell_type": "code",
   "execution_count": null,
   "metadata": {},
   "outputs": [],
   "source": []
  }
 ],
 "metadata": {
  "kernelspec": {
   "display_name": "Python 3",
   "language": "python",
   "name": "python3"
  },
  "language_info": {
   "codemirror_mode": {
    "name": "ipython",
    "version": 3
   },
   "file_extension": ".py",
   "mimetype": "text/x-python",
   "name": "python",
   "nbconvert_exporter": "python",
   "pygments_lexer": "ipython3",
   "version": "3.7.1"
  }
 },
 "nbformat": 4,
 "nbformat_minor": 2
}
