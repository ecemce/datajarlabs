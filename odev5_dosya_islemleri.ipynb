{
 "cells": [
  {
   "cell_type": "markdown",
   "metadata": {},
   "source": [
    "## Seçeceğiniz herhangi bir şiiri bilgisayarına .txt dsyası olarak kaydedin. Şiirin kaç dizeden oluştuğunu hesaplayın ve başka bir dosyaya her dizenin ilk kelimesini yazdırın."
   ]
  },
  {
   "cell_type": "code",
   "execution_count": 27,
   "metadata": {},
   "outputs": [
    {
     "name": "stdout",
     "output_type": "stream",
     "text": [
      "31\n"
     ]
    }
   ],
   "source": [
    "with open(\"canyucel.txt\", \"r\") as f:\n",
    "    dizeler = f.readlines()\n",
    "print(len(dizeler))\n",
    "with open(\"canyucel_kelime.txt\", 'w' ) as f:\n",
    "\n",
    "    for dize in dizeler:\n",
    "        a=dize.split(\" \")\n",
    "        f.write(a[0]+\"\\n\")\n",
    "\n",
    "\n",
    "\n"
   ]
  },
  {
   "cell_type": "markdown",
   "metadata": {},
   "source": [
    "## Parametre olarak girilen bir sayının asal sayı olup olmadığını belirten bir fonksiyon yazın."
   ]
  },
  {
   "cell_type": "code",
   "execution_count": 42,
   "metadata": {},
   "outputs": [
    {
     "name": "stdout",
     "output_type": "stream",
     "text": [
      "Kaça kadar asal saysın? : 5\n",
      "2\n",
      "3\n"
     ]
    }
   ],
   "source": [
    "kaca_kadar=input(\"Kaça kadar asal saysın? : \")\n",
    "print (2)\n",
    "\n",
    "for i in range(3,int(kaca_kadar)):\n",
    "    bolum=False\n",
    "    for j in range(2,i):\n",
    "         if i % j ==0:\n",
    "             bolum=True\n",
    "            \n",
    "    if bolum==False:\n",
    "         print(i)\n",
    "    "
   ]
  },
  {
   "cell_type": "markdown",
   "metadata": {},
   "source": [
    "## Python'da hazır birçok modül bulunmaktadır. Zaman ile ilgili modüllerden birisini import ederek,parametre olarak doğum tarihi alan ve yaşı döndüren bir fonksiyon yazınız."
   ]
  },
  {
   "cell_type": "code",
   "execution_count": 44,
   "metadata": {},
   "outputs": [
    {
     "name": "stdout",
     "output_type": "stream",
     "text": [
      "[22, -17, -2]\n",
      "21 yaşındasısn\n"
     ]
    }
   ],
   "source": [
    "import time\n",
    "x=time.localtime()\n",
    "def dogum_tarihi(yıl,ay,gun):\n",
    "    yas=[(x[0]-yıl),(x[1]-ay),(x[2]-gun)]\n",
    "    return yas\n",
    "yas=dogum_tarihi(1997,20,11)\n",
    "print(yas)\n",
    "    \n",
    "if yas[1]<0:\n",
    "    yass=yas[0]-1\n",
    "else:\n",
    "    yass=yas[0]\n",
    "\n",
    "print(\"{} yaşındasısn\". format(yass))\n",
    "\n",
    "   "
   ]
  },
  {
   "cell_type": "markdown",
   "metadata": {},
   "source": [
    "## Parametre olarak girilecek listenin elemanlarını yeni bir listeye her değer sadece bir kere geçecek şekilde aktaran bir fonksiyon yazın. Normalde bu işlemi set() komutu ile yapabiliriz ama bu seferlik bu komutu kullanmayalım."
   ]
  },
  {
   "cell_type": "code",
   "execution_count": 55,
   "metadata": {},
   "outputs": [
    {
     "name": "stdout",
     "output_type": "stream",
     "text": [
      "9\n",
      "6\n",
      "5\n",
      "2\n",
      "3\n",
      "4\n",
      "1\n",
      "7\n"
     ]
    }
   ],
   "source": [
    "listem=[9,9,6,6,5,2,3,3,4,1,1,7,7]\n",
    "\n",
    "for i in range(0,12):\n",
    "    if listem[i]==listem[i+1]:\n",
    "        i+=1\n",
    "    else:\n",
    "        print(listem[i])\n",
    "        i+=1\n",
    "print(listem[i])\n",
    "        "
   ]
  },
  {
   "cell_type": "code",
   "execution_count": null,
   "metadata": {},
   "outputs": [],
   "source": []
  }
 ],
 "metadata": {
  "kernelspec": {
   "display_name": "Python 3",
   "language": "python",
   "name": "python3"
  },
  "language_info": {
   "codemirror_mode": {
    "name": "ipython",
    "version": 3
   },
   "file_extension": ".py",
   "mimetype": "text/x-python",
   "name": "python",
   "nbconvert_exporter": "python",
   "pygments_lexer": "ipython3",
   "version": "3.7.1"
  }
 },
 "nbformat": 4,
 "nbformat_minor": 2
}
