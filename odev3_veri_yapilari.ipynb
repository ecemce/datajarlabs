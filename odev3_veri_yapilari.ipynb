{
 "cells": [
  {
   "cell_type": "markdown",
   "metadata": {},
   "source": [
    "### İçerisinde 7 günün bulunduğu bir sözlük oluşturun. Kullanıcıya günleri listeleyerek 2 farklı gün seçmesini isteyin (örneğin pazartesi ve salı için \"12\" gibi). Kullanıcının seçtiği günleri sözlükten silerek kalan 5 günü ekrana yazdırın.\n"
   ]
  },
  {
   "cell_type": "code",
   "execution_count": 1,
   "metadata": {},
   "outputs": [
    {
     "name": "stdout",
     "output_type": "stream",
     "text": [
      "{'pazartesi': 2, 'salı': 0, 'çarşamba': 5, 'perşembe': 6, 'cuma': 5, 'cumartesi': 0, 'pazar': 0}\n",
      "Bir gün seçiniz:pazartesi\n",
      "Ders saatiniz: 2\n",
      "{'salı': 0, 'çarşamba': 5, 'perşembe': 6, 'cuma': 5, 'cumartesi': 0, 'pazar': 0}\n"
     ]
    }
   ],
   "source": [
    "günlere_göre_ders_saatim={\"pazartesi\":2,\"salı\":0,\"çarşamba\":5,\"perşembe\":6,\"cuma\":5,\"cumartesi\":0,\"pazar\":0}\n",
    "print(günlere_göre_ders_saatim)\n",
    "\n",
    "gün_sec=input(\"Bir gün seçiniz:\")\n",
    "print(\"Ders saatiniz:\",günlere_göre_ders_saatim[gün_sec])\n",
    "del günlere_göre_ders_saatim[gün_sec]\n",
    "\n",
    "\n",
    "\n",
    "print(günlere_göre_ders_saatim)"
   ]
  },
  {
   "cell_type": "markdown",
   "metadata": {},
   "source": [
    "###  Ayların kaç gün çektiğini karıştırabiliyoruz. Bunun için bir liste oluşturun ancak listenizde ay isimleri ve gün sayıları beraber bulunsun."
   ]
  },
  {
   "cell_type": "code",
   "execution_count": 3,
   "metadata": {},
   "outputs": [
    {
     "name": "stdout",
     "output_type": "stream",
     "text": [
      "Aylar: [['ocak', 31], ['şubat', 28], ['mart', 31], ['Nisan', 30], ['mayıs', 31], ['haziran', 30], ['temmuz', 31], ['ağustos', 31], ['eylül', 30], ['ekim', 31], ['kasım', 30], ['aralık', 31]]\n"
     ]
    }
   ],
   "source": [
    "Aylar=[[\"ocak\",31],[\"şubat\",28],[\"mart\",31],[\"Nisan\",30],[\"mayıs\",31],[\"haziran\",30],[\"temmuz\",31],[\"ağustos\",31],\n",
    "       [\"eylül\",30],[\"ekim\",31],[\"kasım\",30],[\"aralık\",31]]\n",
    "print(\"Aylar:\",Aylar)"
   ]
  },
  {
   "cell_type": "markdown",
   "metadata": {},
   "source": [
    "### Şimdi ise mevsim mevsim ayrılmış ay listeleri oluşturun. Liste adlarına mevsimlerin adlarını verin."
   ]
  },
  {
   "cell_type": "code",
   "execution_count": 9,
   "metadata": {},
   "outputs": [
    {
     "ename": "SyntaxError",
     "evalue": "invalid syntax (<ipython-input-9-763f41a44dcc>, line 6)",
     "output_type": "error",
     "traceback": [
      "\u001b[1;36m  File \u001b[1;32m\"<ipython-input-9-763f41a44dcc>\"\u001b[1;36m, line \u001b[1;32m6\u001b[0m\n\u001b[1;33m    print(yaz[1])+yaz[3])\u001b[0m\n\u001b[1;37m                        ^\u001b[0m\n\u001b[1;31mSyntaxError\u001b[0m\u001b[1;31m:\u001b[0m invalid syntax\n"
     ]
    }
   ],
   "source": [
    "ilkbahar=[\"mart\",\"nisan\",\"mayıs\"]\n",
    "yaz=[\"haziran\",30,\"temmuz\",31,\"ağustos\",31]\n",
    "sonbahar=[\"eylül\",\"ekim\",\"kasım\"]\n",
    "kış=[\"aralık\",\"ocak\",\"şubat\"]\n",
    "\n",
    "print(yaz[1])+yaz[3])"
   ]
  },
  {
   "cell_type": "code",
   "execution_count": null,
   "metadata": {},
   "outputs": [],
   "source": []
  }
 ],
 "metadata": {
  "kernelspec": {
   "display_name": "Python 3",
   "language": "python",
   "name": "python3"
  },
  "language_info": {
   "codemirror_mode": {
    "name": "ipython",
    "version": 3
   },
   "file_extension": ".py",
   "mimetype": "text/x-python",
   "name": "python",
   "nbconvert_exporter": "python",
   "pygments_lexer": "ipython3",
   "version": "3.7.1"
  }
 },
 "nbformat": 4,
 "nbformat_minor": 2
}
