{
 "cells": [
  {
   "cell_type": "code",
   "execution_count": 5,
   "metadata": {},
   "outputs": [],
   "source": [
    "## 1000$ ile bitcoinde 1 haftada ne kadar kazanırız?\n",
    "## Bitcoinin 2017 yılı için her gün %12 kazandırdığını ihmal etmeyiniz."
   ]
  },
  {
   "cell_type": "code",
   "execution_count": 34,
   "metadata": {},
   "outputs": [
    {
     "name": "stdout",
     "output_type": "stream",
     "text": [
      "İlk yatırılan para  1000 $\n",
      "1. gün elde edilen miktar: 1120.0 $\n",
      "2. gün elde edilen miktar: 1254.0 $\n",
      "3. gün elde edilen miktar: 1404.0 $\n",
      "4. gün elde edilen miktar: 1572.0 $\n",
      "5. gün elde edilen miktar: 1760.0 $\n",
      "6. gün elde edilen miktar: 1971.0 $\n",
      "7. gün elde edilen miktar: 2207.0 $\n",
      "Hafta başında 1000 dolarlık bitcoin aldığımızda günde ortalama 0.12 kazançla, bir hafta sonunda  2207.0 dolar kazandık.\n"
     ]
    }
   ],
   "source": [
    "x=1000\n",
    "z=0.12\n",
    "print(\"İlk yatırılan para \" , x,\"$\")\n",
    "\n",
    "a=x*z\n",
    "print(\"1. gün elde edilen miktar:\" , x+a,\"$\" )\n",
    "\n",
    "b=int((x+a)*z)\n",
    "print(\"2. gün elde edilen miktar:\" , x+a+b,\"$\" )\n",
    "\n",
    "c=int((x+a+b)*z)\n",
    "print(\"3. gün elde edilen miktar:\" , x+a+b+c,\"$\" )\n",
    "\n",
    "d=int((x+a+b+c)*z)\n",
    "print(\"4. gün elde edilen miktar:\" , x+a+b+c+d,\"$\" )\n",
    "\n",
    "e=int((x+a+b+c+d)*z)\n",
    "print(\"5. gün elde edilen miktar:\" , x+a+b+c+d+e,\"$\" )\n",
    "\n",
    "f=int((x+a+b+c+d+e)*z)\n",
    "print(\"6. gün elde edilen miktar:\" , x+a+b+c+d+e+f,\"$\" )\n",
    "\n",
    "g=int((x+a+b+c+d+e+f)*z)\n",
    "print(\"7. gün elde edilen miktar:\" , x+a+b+c+d+e+f+g,\"$\" )\n",
    "\n",
    "t=x+a+b+c+d+e+f+g\n",
    "\n",
    "print(\"Hafta başında\", x ,\"dolarlık bitcoin aldığımızda günde ortalama\" , z ,\"kazançla, bir hafta sonunda \",t,\"dolar kazandık.\")\n",
    "\n",
    "\n"
   ]
  },
  {
   "cell_type": "code",
   "execution_count": 33,
   "metadata": {},
   "outputs": [
    {
     "name": "stdout",
     "output_type": "stream",
     "text": [
      "Dosya adını giriniz:ödev1\n",
      "ödev1 .py\n"
     ]
    }
   ],
   "source": [
    "dosya_adı=input(\"Dosya adını giriniz:\")\n",
    "print(dosya_adı,(\".py\"))\n"
   ]
  },
  {
   "cell_type": "code",
   "execution_count": null,
   "metadata": {},
   "outputs": [],
   "source": []
  }
 ],
 "metadata": {
  "kernelspec": {
   "display_name": "Python 3",
   "language": "python",
   "name": "python3"
  },
  "language_info": {
   "codemirror_mode": {
    "name": "ipython",
    "version": 3
   },
   "file_extension": ".py",
   "mimetype": "text/x-python",
   "name": "python",
   "nbconvert_exporter": "python",
   "pygments_lexer": "ipython3",
   "version": "3.7.1"
  }
 },
 "nbformat": 4,
 "nbformat_minor": 2
}
